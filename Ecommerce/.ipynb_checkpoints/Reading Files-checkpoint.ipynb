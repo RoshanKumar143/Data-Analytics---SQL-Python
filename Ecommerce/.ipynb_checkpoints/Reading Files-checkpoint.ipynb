{
 "cells": [
  {
   "cell_type": "code",
   "execution_count": 11,
   "id": "84e95790-c07d-47d7-be52-f47fd1724ee0",
   "metadata": {},
   "outputs": [
    {
     "name": "stdout",
     "output_type": "stream",
     "text": [
      "Github - https://github.com/Ayushi0214/SQL-Python-Ecommerce-Project/blob/main/python%2Bsql_ecommerce.ipynb\n",
      "\n",
      "> Dataset - https://www.kaggle.com/datasets/devarajv88/target-dataset?select=products.csv\n",
      "\n",
      "> Install Python, jupyter notebook(cmd>pip install jupyter, jupyter --version)\n",
      "\n",
      "> GO to Anaconda, Select \"Windows\" and download the appropriate .exe installer file. \n",
      " \n",
      ". Go to Project folder > in bar type cmd, jupyter notebook\n",
      "\n"
     ]
    }
   ],
   "source": [
    "#1. Accessing Files\n",
    "\n",
    "#Reading a Text File\n",
    "file_path = r\"E:\\1.JOB&Learning_ALL_DOCS\\3.DataAnalytics\\Projects\\Ecommerce\\Ecommerce_Details.txt\"\n",
    "\n",
    "with open(file_path, \"r\") as file:\n",
    "    print(file.read())"
   ]
  },
  {
   "cell_type": "code",
   "execution_count": 4,
   "id": "575b0a98-5512-4db0-9c94-cbbf31e7595f",
   "metadata": {},
   "outputs": [
    {
     "name": "stderr",
     "output_type": "stream",
     "text": [
      "IOPub data rate exceeded.\n",
      "The Jupyter server will temporarily stop sending output\n",
      "to the client in order to avoid crashing it.\n",
      "To change this limit, set the config variable\n",
      "`--ServerApp.iopub_data_rate_limit`.\n",
      "\n",
      "Current values:\n",
      "ServerApp.iopub_data_rate_limit=1000000.0 (bytes/sec)\n",
      "ServerApp.rate_limit_window=3.0 (secs)\n",
      "\n"
     ]
    }
   ],
   "source": [
    "#Reading CSV FILE\n",
    "\n",
    "file_path = r\"E:\\1.JOB&Learning_ALL_DOCS\\3.DataAnalytics\\Projects\\Ecommerce\\customers.csv\"\n",
    "\n",
    "with open(file_path, \"r\") as file:\n",
    "    print(file.read())"
   ]
  },
  {
   "cell_type": "code",
   "execution_count": 6,
   "id": "e69d0d0b-3387-4797-bccc-9c809d0abad5",
   "metadata": {},
   "outputs": [],
   "source": [
    "# Write to a file (creates if not exists)\n",
    "with open(\"output.txt\", \"w\") as file:\n",
    "    file.write(\"Hello, this is Roshan's first Python output!\")\n"
   ]
  },
  {
   "cell_type": "code",
   "execution_count": null,
   "id": "5889c7d8-4b3c-4262-b104-8640db2a27e5",
   "metadata": {},
   "outputs": [],
   "source": []
  },
  {
   "cell_type": "code",
   "execution_count": 10,
   "id": "7672b7fb-9a54-48ce-9844-0013e96534f9",
   "metadata": {},
   "outputs": [
    {
     "name": "stdout",
     "output_type": "stream",
     "text": [
      "Requirement already satisfied: pandas in c:\\users\\roshan kumar\\appdata\\roaming\\python\\python310\\site-packages (1.4.4)\n",
      "Requirement already satisfied: python-dateutil>=2.8.1 in c:\\users\\roshan kumar\\appdata\\local\\programs\\python\\python310\\lib\\site-packages (from pandas) (2.9.0.post0)\n",
      "Requirement already satisfied: pytz>=2020.1 in c:\\users\\roshan kumar\\appdata\\roaming\\python\\python310\\site-packages (from pandas) (2022.2.1)\n",
      "Requirement already satisfied: numpy>=1.21.0 in c:\\users\\roshan kumar\\appdata\\roaming\\python\\python310\\site-packages (from pandas) (1.23.3)\n",
      "Requirement already satisfied: six>=1.5 in c:\\users\\roshan kumar\\appdata\\local\\programs\\python\\python310\\lib\\site-packages (from python-dateutil>=2.8.1->pandas) (1.17.0)\n",
      "Note: you may need to restart the kernel to use updated packages.\n"
     ]
    },
    {
     "name": "stderr",
     "output_type": "stream",
     "text": [
      "\n",
      "[notice] A new release of pip is available: 24.2 -> 25.1.1\n",
      "[notice] To update, run: python.exe -m pip install --upgrade pip\n"
     ]
    }
   ],
   "source": [
    "pip install pandas"
   ]
  },
  {
   "cell_type": "code",
   "execution_count": 15,
   "id": "acdb99c5-d917-44d5-82ad-251d954fdab0",
   "metadata": {},
   "outputs": [
    {
     "name": "stdout",
     "output_type": "stream",
     "text": [
      "                        customer_id                customer_unique_id  \\\n",
      "0  06b8999e2fba1a1fbc88172c00ba8bc7  861eff4711a542e4b93843c6dd7febb0   \n",
      "1  18955e83d337fd6b2def6b18a428ac77  290c77bc529b7ac935b93aa66c333dc3   \n",
      "2  4e7b3e00288586ebd08712fdd0374a03  060e732b5b29e8181a18229c7b0b2b5e   \n",
      "3  b2b6027bc5c5109e529d4dc6358b12c3  259dac757896d24d7702b9acbbff3f3c   \n",
      "4  4f2d8ab171c80ec8364f7c12e35b23ad  345ecd01c38d18a9036ed96c73b8d066   \n",
      "\n",
      "   customer_zip_code_prefix          customer_city customer_state  \n",
      "0                     14409                 franca             SP  \n",
      "1                      9790  sao bernardo do campo             SP  \n",
      "2                      1151              sao paulo             SP  \n",
      "3                      8775        mogi das cruzes             SP  \n",
      "4                     13056               campinas             SP  \n"
     ]
    }
   ],
   "source": [
    "# 2. Reading files using pandas\n",
    "\n",
    "import pandas as pd\n",
    "\n",
    "df = pd.read_csv(r\"E:\\1.JOB&Learning_ALL_DOCS\\3.DataAnalytics\\Projects\\Ecommerce\\customers.csv\")\n",
    "print(df.head())"
   ]
  },
  {
   "cell_type": "code",
   "execution_count": 20,
   "id": "60450e25-d08a-4cfe-8caa-778cd8fc2c48",
   "metadata": {},
   "outputs": [
    {
     "name": "stdout",
     "output_type": "stream",
     "text": [
      "<class 'pandas.core.frame.DataFrame'>\n",
      "RangeIndex: 99441 entries, 0 to 99440\n",
      "Data columns (total 5 columns):\n",
      " #   Column                    Non-Null Count  Dtype \n",
      "---  ------                    --------------  ----- \n",
      " 0   customer_id               99441 non-null  object\n",
      " 1   customer_unique_id        99441 non-null  object\n",
      " 2   customer_zip_code_prefix  99441 non-null  int64 \n",
      " 3   customer_city             99441 non-null  object\n",
      " 4   customer_state            99441 non-null  object\n",
      "dtypes: int64(1), object(4)\n",
      "memory usage: 3.8+ MB\n",
      "None\n"
     ]
    }
   ],
   "source": [
    "import pandas as pd\n",
    "\n",
    "df = pd.read_csv(r\"E:\\1.JOB&Learning_ALL_DOCS\\3.DataAnalytics\\Projects\\Ecommerce\\customers.csv\")#\n",
    "#print(df.tail())\n",
    "#print(df.describe())\n",
    "print(df.info())"
   ]
  },
  {
   "cell_type": "code",
   "execution_count": 2,
   "id": "8f7f5439-d972-4e8c-a61e-5a3fc373f58c",
   "metadata": {},
   "outputs": [
    {
     "name": "stdout",
     "output_type": "stream",
     "text": [
      "  Github - https://github.com/Ayushi0214/SQL-Python-Ecommerce-Project/blob/main/python%2Bsql_ecommerce.ipynb\n",
      "0  > Dataset - https://www.kaggle.com/datasets/de...                                                        \n",
      "1  > Install Python, jupyter notebook(cmd>pip ins...                                                        \n",
      "2  > GO to Anaconda, Select \"Windows\" and downloa...                                                        \n",
      "3  . Go to Project folder > in bar type cmd, jupy...                                                        \n"
     ]
    }
   ],
   "source": [
    "import pandas as pd\n",
    "df = pd.read_csv(r\"E:\\1.JOB&Learning_ALL_DOCS\\3.DataAnalytics\\Projects\\Ecommerce\\Ecommerce_Details.txt\", sep=\"\\t\")\n",
    "print(df)"
   ]
  },
  {
   "cell_type": "code",
   "execution_count": 4,
   "id": "fb58d9ba-21cd-4a29-8303-351b0b3098fd",
   "metadata": {},
   "outputs": [
    {
     "name": "stdout",
     "output_type": "stream",
     "text": [
      "Requirement already satisfied: openpyxl in c:\\users\\roshan kumar\\appdata\\local\\programs\\python\\python310\\lib\\site-packages (3.1.2)\n",
      "Requirement already satisfied: et-xmlfile in c:\\users\\roshan kumar\\appdata\\local\\programs\\python\\python310\\lib\\site-packages (from openpyxl) (1.1.0)\n",
      "Note: you may need to restart the kernel to use updated packages.\n"
     ]
    },
    {
     "name": "stderr",
     "output_type": "stream",
     "text": [
      "\n",
      "[notice] A new release of pip is available: 24.2 -> 25.1.1\n",
      "[notice] To update, run: python.exe -m pip install --upgrade pip\n"
     ]
    }
   ],
   "source": [
    "pip install openpyxl"
   ]
  },
  {
   "cell_type": "code",
   "execution_count": 7,
   "id": "55dd7de2-e74a-4087-9cc8-d0e087298ad2",
   "metadata": {},
   "outputs": [
    {
     "name": "stdout",
     "output_type": "stream",
     "text": [
      "     Ashok  Manager\n",
      "0  Hussain  Manager\n",
      "1     John  Sernior\n",
      "2    Milan   Senior\n"
     ]
    }
   ],
   "source": [
    "#Reading Excel file using openpyxl\n",
    "import pandas as pd\n",
    "df = pd.read_excel(r\"E:\\1.JOB&Learning_ALL_DOCS\\3.DataAnalytics\\Projects\\Ecommerce\\No_Header.xlsx\", engine = 'openpyxl')\n",
    "print(df.head())"
   ]
  },
  {
   "cell_type": "code",
   "execution_count": 8,
   "id": "75f1385e-4e29-4d3a-a302-933dbb26b331",
   "metadata": {},
   "outputs": [
    {
     "name": "stdout",
     "output_type": "stream",
     "text": [
      "         0        1\n",
      "0    Ashok  Manager\n",
      "1  Hussain  Manager\n",
      "2     John  Sernior\n",
      "3    Milan   Senior\n"
     ]
    }
   ],
   "source": [
    "#Reading Excel file using openpyxl\n",
    "import pandas as pd\n",
    "df = pd.read_excel(r\"E:\\1.JOB&Learning_ALL_DOCS\\3.DataAnalytics\\Projects\\Ecommerce\\No_Header.xlsx\", header = None,  engine = 'openpyxl')  \n",
    "# Assigns default column names like 0,1,2,...\n",
    "print(df.head())"
   ]
  },
  {
   "cell_type": "code",
   "execution_count": null,
   "id": "9abc93a7-ddb3-46fc-b53b-092369700628",
   "metadata": {},
   "outputs": [],
   "source": []
  }
 ],
 "metadata": {
  "kernelspec": {
   "display_name": "Python 3 (ipykernel)",
   "language": "python",
   "name": "python3"
  },
  "language_info": {
   "codemirror_mode": {
    "name": "ipython",
    "version": 3
   },
   "file_extension": ".py",
   "mimetype": "text/x-python",
   "name": "python",
   "nbconvert_exporter": "python",
   "pygments_lexer": "ipython3",
   "version": "3.10.7"
  }
 },
 "nbformat": 4,
 "nbformat_minor": 5
}
