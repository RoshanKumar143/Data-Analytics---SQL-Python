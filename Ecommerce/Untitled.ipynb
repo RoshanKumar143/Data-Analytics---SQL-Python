{
 "cells": [
  {
   "cell_type": "code",
   "execution_count": 1,
   "id": "8ad08e3a-7852-4acf-b650-9790cf60a6e2",
   "metadata": {},
   "outputs": [
    {
     "name": "stdout",
     "output_type": "stream",
     "text": [
      "Hi\n"
     ]
    }
   ],
   "source": [
    "print('Hi')"
   ]
  },
  {
   "cell_type": "code",
   "execution_count": 12,
   "id": "3798553d-bcad-4618-a574-02347e8f8162",
   "metadata": {
    "scrolled": true
   },
   "outputs": [
    {
     "name": "stdout",
     "output_type": "stream",
     "text": [
      "Github - https://github.com/Ayushi0214/SQL-Python-Ecommerce-Project/blob/main/python%2Bsql_ecommerce.ipynb\n",
      "\n",
      "> Dataset - https://www.kaggle.com/datasets/devarajv88/target-dataset?select=products.csv\n",
      "\n",
      "> Install Python, jupyter notebook(cmd>pip install jupyter, jupyter --version)\n",
      "\n",
      "> GO to Anaconda, Select \"Windows\" and download the appropriate .exe installer file. \n",
      " \n",
      ". Go to Project folder > in bar type cmd, jupyter notebook\n",
      "\n"
     ]
    }
   ],
   "source": [
    "#Reading a Text file using with open()\n",
    "#with open(r\"E:\\1.JOB&Learning_ALL_DOCS\\3.DataAnalytics\\Projects\\Ecommerce\\Ecommerce_Details.txt\", \"r\") as file:\n",
    "file_path = r\"E:\\1.JOB&Learning_ALL_DOCS\\3.DataAnalytics\\Projects\\Ecommerce\\Ecommerce_Details.txt\" \n",
    "with open(file_path, \"r\", encoding=\"utf-8\") as file:\n",
    "    print(file.read())"
   ]
  },
  {
   "cell_type": "code",
   "execution_count": 17,
   "id": "bb548551-e039-4b6d-9813-dec0acd4ae34",
   "metadata": {},
   "outputs": [
    {
     "name": "stdout",
     "output_type": "stream",
     "text": [
      "Github - https://github.com/Ayushi0214/SQL-Python-Ecommerce-Project/blob/main/python%2Bsql_ecommerce.ipynb\n",
      "\n",
      "> Dataset - https://www.kaggle.com/datasets/devarajv88/target-dataset?select=products.csv\n",
      "\n",
      "> Install Python, jupyter notebook(cmd>pip install jupyter, jupyter --version)\n",
      "\n",
      "> GO to Anaconda, Select \"Windows\" and download the appropriate .exe installer file. \n",
      " \n",
      ". Go to Project folder > in bar type cmd, jupyter notebook\n",
      "\n"
     ]
    }
   ],
   "source": [
    "# Define the file path\n",
    "file_path = r\"E:\\1.JOB&Learning_ALL_DOCS\\3.DataAnalytics\\Projects\\Ecommerce\\Ecommerce_Details.txt\"\n",
    "\n",
    "# Read the content of the file\n",
    "with open(file_path, \"r\", encoding=\"utf-8\") as file:\n",
    "    content = file.read()\n",
    "    print(content)"
   ]
  },
  {
   "cell_type": "code",
   "execution_count": 14,
   "id": "3b494b20-ba30-42d4-ae52-325fde783859",
   "metadata": {},
   "outputs": [
    {
     "name": "stderr",
     "output_type": "stream",
     "text": [
      "IOPub data rate exceeded.\n",
      "The Jupyter server will temporarily stop sending output\n",
      "to the client in order to avoid crashing it.\n",
      "To change this limit, set the config variable\n",
      "`--ServerApp.iopub_data_rate_limit`.\n",
      "\n",
      "Current values:\n",
      "ServerApp.iopub_data_rate_limit=1000000.0 (bytes/sec)\n",
      "ServerApp.rate_limit_window=3.0 (secs)\n",
      "\n"
     ]
    }
   ],
   "source": [
    "# Define the file path\n",
    "file_path = r\"E:\\1.JOB&Learning_ALL_DOCS\\3.DataAnalytics\\Projects\\Ecommerce\\Customers.csv\"\n",
    "\n",
    "# Read the content of the file\n",
    "with open(file_path, \"r\", encoding=\"utf-8\") as file:\n",
    "    content = file.read()\n",
    "    print(content)\n"
   ]
  },
  {
   "cell_type": "code",
   "execution_count": 15,
   "id": "70b16623-b09f-4ab6-b44d-0844030d721d",
   "metadata": {},
   "outputs": [
    {
     "name": "stdout",
     "output_type": "stream",
     "text": [
      "                         customer_id                customer_unique_id  \\\n",
      "0   06b8999e2fba1a1fbc88172c00ba8bc7  861eff4711a542e4b93843c6dd7febb0   \n",
      "1   18955e83d337fd6b2def6b18a428ac77  290c77bc529b7ac935b93aa66c333dc3   \n",
      "2   4e7b3e00288586ebd08712fdd0374a03  060e732b5b29e8181a18229c7b0b2b5e   \n",
      "3   b2b6027bc5c5109e529d4dc6358b12c3  259dac757896d24d7702b9acbbff3f3c   \n",
      "4   4f2d8ab171c80ec8364f7c12e35b23ad  345ecd01c38d18a9036ed96c73b8d066   \n",
      "..                               ...                               ...   \n",
      "95  f89c1a6b9c966869e441e55bc14acddc  809353196a0456095716566dd226bb48   \n",
      "96  23e96758fd640560e9b1fbcda90abfc4  9e1f719fe5b17b9c51905fee6d6385c1   \n",
      "97  369708cabd9831ea6fde670a3b602a92  94b731a41867b47c3856e324840c4c99   \n",
      "98  5f8b4882b5a4ec7bf6d2107e6cd0cf29  694cb45ff29b603ac2acd51016770097   \n",
      "99  ad6891a1937cb8723a2c08ba1ae59873  9dbb05f5577e862337b93feb8f358839   \n",
      "\n",
      "    customer_zip_code_prefix          customer_city customer_state  \n",
      "0                      14409                 franca             SP  \n",
      "1                       9790  sao bernardo do campo             SP  \n",
      "2                       1151              sao paulo             SP  \n",
      "3                       8775        mogi das cruzes             SP  \n",
      "4                      13056               campinas             SP  \n",
      "..                       ...                    ...            ...  \n",
      "95                     13569             sao carlos             SP  \n",
      "96                      5565              sao paulo             SP  \n",
      "97                      3636              sao paulo             SP  \n",
      "98                     24120                niteroi             RJ  \n",
      "99                     65058               sao luis             MA  \n",
      "\n",
      "[100 rows x 5 columns]\n"
     ]
    }
   ],
   "source": [
    "import pandas as pd\n",
    "\n",
    "# Define the file path\n",
    "file_path = r\"E:\\1.JOB&Learning_ALL_DOCS\\3.DataAnalytics\\Projects\\Ecommerce\\customers.csv\"\n",
    "\n",
    "# Read the CSV file into a DataFrame\n",
    "df = pd.read_csv(file_path)\n",
    "\n",
    "# View the top 100 records\n",
    "print(df.head(100))\n"
   ]
  },
  {
   "cell_type": "code",
   "execution_count": null,
   "id": "fb2187dc-6910-454a-ba92-0c4c4946e384",
   "metadata": {},
   "outputs": [],
   "source": []
  }
 ],
 "metadata": {
  "kernelspec": {
   "display_name": "Python 3 (ipykernel)",
   "language": "python",
   "name": "python3"
  },
  "language_info": {
   "codemirror_mode": {
    "name": "ipython",
    "version": 3
   },
   "file_extension": ".py",
   "mimetype": "text/x-python",
   "name": "python",
   "nbconvert_exporter": "python",
   "pygments_lexer": "ipython3",
   "version": "3.10.7"
  }
 },
 "nbformat": 4,
 "nbformat_minor": 5
}
